{
  "nbformat": 4,
  "nbformat_minor": 0,
  "metadata": {
    "colab": {
      "provenance": [],
      "gpuType": "T4",
      "authorship_tag": "ABX9TyNyn6LlUt0dyqPZjWkTvbLm",
      "include_colab_link": true
    },
    "kernelspec": {
      "name": "python3",
      "display_name": "Python 3"
    },
    "language_info": {
      "name": "python"
    },
    "accelerator": "GPU"
  },
  "cells": [
    {
      "cell_type": "markdown",
      "metadata": {
        "id": "view-in-github",
        "colab_type": "text"
      },
      "source": [
        "<a href=\"https://colab.research.google.com/github/mahalakruth/SAJRA/blob/main/Whisper_model28.ipynb\" target=\"_parent\"><img src=\"https://colab.research.google.com/assets/colab-badge.svg\" alt=\"Open In Colab\"/></a>"
      ]
    },
    {
      "cell_type": "code",
      "source": [
        "# # Use a pipeline as a high-level helper\n",
        "# from transformers import pipeline\n",
        "\n",
        "# pipe = pipeline(\"automatic-speech-recognition\", model=\"openai/whisper-large-v3\")"
      ],
      "metadata": {
        "id": "2IwQY1Mrrx0L",
        "colab": {
          "base_uri": "https://localhost:8080/"
        },
        "outputId": "1ff41b6c-82a5-4915-ca89-ea33a78e67b5"
      },
      "execution_count": null,
      "outputs": [
        {
          "output_type": "stream",
          "name": "stderr",
          "text": [
            "/usr/local/lib/python3.10/dist-packages/huggingface_hub/utils/_token.py:88: UserWarning: \n",
            "The secret `HF_TOKEN` does not exist in your Colab secrets.\n",
            "To authenticate with the Hugging Face Hub, create a token in your settings tab (https://huggingface.co/settings/tokens), set it as secret in your Google Colab and restart your session.\n",
            "You will be able to reuse this secret in all of your notebooks.\n",
            "Please note that authentication is recommended but still optional to access public models or datasets.\n",
            "  warnings.warn(\n",
            "Special tokens have been added in the vocabulary, make sure the associated word embeddings are fine-tuned or trained.\n"
          ]
        }
      ]
    },
    {
      "cell_type": "code",
      "source": [
        "audio_file_path = \"/content/ab.mp3\""
      ],
      "metadata": {
        "id": "Q09D_hzptynr"
      },
      "execution_count": null,
      "outputs": []
    },
    {
      "cell_type": "code",
      "source": [
        "transcription_result =pipe(audio_file_path)\n",
        "transcription_result"
      ],
      "metadata": {
        "colab": {
          "base_uri": "https://localhost:8080/"
        },
        "id": "sNGKAK7xUhjI",
        "outputId": "c6388b70-6c49-4b26-ac21-6e56b69c5e92"
      },
      "execution_count": null,
      "outputs": [
        {
          "output_type": "stream",
          "name": "stderr",
          "text": [
            "Due to a bug fix in https://github.com/huggingface/transformers/pull/28687 transcription using a multilingual Whisper will default to language detection followed by transcription instead of translation to English.This might be a breaking change for your use case. If you want to instead always translate your audio to English, make sure to pass `language='en'`.\n"
          ]
        },
        {
          "output_type": "execute_result",
          "data": {
            "text/plain": [
              "{'text': \" First, friends, I want to leave you with a thought today. What is the one action which will make you great? Every one of you has a page in the history of the world. What is that page? How do you make that page which is going to be referred by the prosperity? There is a need to give a vision to your ambition. What I will be remembered for? What I will be remembered for? President said and there in May we saw first time how 48 degree Celsius will be there and outside the outside temperature and then midday we conducted the test and that made India a nuclear weapon state and that also gave me another type of happiness. Then I said, okay, these are all some different, some space. I said, we prepare for the nation. I prepared for the nation, India 2020 mission. How by the year 2020, India can be an economically developed nation. We give a blueprint, a road map in 1998 with the complete area specified and what should be done. and this book finally a book also come India twenty three famous book and all these things another work including parliament discussed and politically they accepted those days so all these things happened but she was nothing impressed my student you know student when you are taking class you will know she said I didn't ask all these things but you give me one thing which gave you bliss means anand, equalities anand. Now, finally, I told them, see, when I was in DRDL Hyderabad, I was working as a director of the establishment and also specializing in composite material, how to make a composite material. The Agni missile, the introduction I gave for Agni, carry what is called a heat shield, because when it re-enters with 15 times the sound speed, re-entry time before 2000 kilometer goes, the temperature outside will be normally 4500 degree Kelvin. It will be burning. It's a flame. That means inside, inside the nose cone, inside the heat shield, the material what you carry, it may be any important material and that should be in temperature the room temperature what you are having. This is the requirement. So we developed a material called carbon-carbon material. You know carbon composite. This carbon-carbon material we developed, the tip we have put this follow so that whenever temperature, very high temperature flame comes in, this will protect inside will be always 25-28 degree Celsius. So this very light material we used. So this is called heat shield for agaric. One day, an orthopaedic friend, Professor B.N. Prasad, at that time he was an Islamic of medical science, he was an orthopaedic surgeon. One day, he was visiting me. The orthopaedic surgeon was visiting my lab. I showed him the precious thing, the heat shield. She lifted, he found it's very light, very light, very light. He was always saying very light. And then, and heavy, strength also, you see, very high temperature, strength also very low. So strength will be kept always. So all this thing was highly impressed. He said, Kalam, I want to take you to my orthopedic ward in Exhaustion of Medical Science. So he put me in his car and took me to the hospital and took me to the orthopedic ward. There were 30-40 people who were having knee surgery. And about 15 young boys and girls they had the caliper fitted. You know, for a polio patient they fit the caliper. That caliper, each caliper put together weighs 4 kilograms. He told me see that as soon as we went they were removed that caliper they did not wear it as soon as we saw the doctor immediately started fitting it so heavy he said so uncomfortable he told me you see the seam and you have got a fantastic material what the use of missile why not you use that material missile material use it for this my children so we took this a challenge we took dimension we took 22 moles we made in 2 weeks time then we got 15 15 calibers we call it a flow reaction orthosis and I took it to hospital with my team composite team and we fitted to each child and child when they were so light they started running because that 4 kilogram becomes 400 gram 4 kilogram 400 gram the children were so happy and they started running when the mother saw this one they thought I saw the tears I said that was the bliss I got I told So, my all of you my feeling is that answers as my student. All of you are fortunate to be in a noble profession to remove the pain with compassion and experience. Very important. See, one is treatment others is compassion. Both today I was in Thiruvallur at a school. I one girl asked me a question, about 12 questions were there. One question she asked. Before her question I answered, I asked, what class you are studying? The girl said, I am 10 plus 1. What subject you are studying? She said, medical subject she has taken. That is biology, medical science, and physics, biosex, bioscience, all these things she has taken. And I hope you are becoming a doctor. I said, yes, my dream is to become a doctor so that I can remove the pain, she said. Fantastic statement the girl made. I want to remove the pain. But you know, I said, my answer was, you know, normally we all of us human beings, we have one biological heart, isn't it? All of us got one biological heart. But doctors should have two hearts, I said. Apart from biological heart, they must have one more heart. So the question I asked, what is the second heart? Nobody even can. Finally I said, it's a kind heart. Because doctor's service, medical service needs compassion to the patient. because you find not one patient. You have to treat hundreds of patients with pain. In that environment, you have need kindness and compassion. So I visualize all the doctors. They have got two hearts. Good doctors. Now medical profession, one of the important things, friends, when I see Dr. Sanjeevi's life, Dr. Ramudhi's life and all your life, I see one great quality we need what is called culture of excellence. Culture of excellence. All of you can hear me? Yes. Last row? Yes. Friends, you belong to the medical community of multiple fields. You should stand for a culture of excellence. The excellence not by accident. It is a process where an individual continuously strives to better oneself. The performance standards are set by themselves. They work on their dreams with focus and are prepared to take calculated risks and do not get deterred by failures as they move towards their dreams. Then they step up their dreams as they tend to reach the original targets. They strive to work to their potential. In the process they increase their performance thereby multiplying further their potential. This is an unending life cycle phenomena culture of excellence. They are not in competition with anyone else but themselves. that is a culture of excellence I am sure each one of you will aspire to become a unique with culture of excellence because that is needed when you see a patient and the diagnosis method has changed and the treatment methods have changed and you are the one area you have to be completely updated continuously that means your knowledge should continuously needs needs addition addition friends medicine when I am seeing all of you medicine is undergoing a paradigm shift the understanding of genome the dynamics of proteins and ability of technology to see various process of the cells have zeroed on to inflammation. Inflammation is the root of all the diseases. You will agree. Now with these discoveries also came a scientific advances in understanding the underlying mechanisms of disease leading to innovative therapies that focus on addressing the cause of disease instead of just treating symptoms. It is essential our medical scientists and clinicians working in the field of healthcare and research have to revisit traditional pharmacological approaches to medicine and healthcare and develop scientific treatment protocols to use them for many acute and chronic disease and disorders. Now, when I am telling you in 2013, that is last year, cancer research found a sea change in research and development because I visited the Anderson laboratory in USA according to the science journal is called the advanced of science promising results emerged from the clinical trials of cancer immunotherapy cancer immunotherapy in which treatment target the body's immune system rather than tumors directly. Tumor flow, you know, in cancer, you will treat something, it will come somewhere else. Okay. So, the question is, the 2013 research says, the immune system targets the body's immune system rather than the tumors directly. The treatment pushed T cells and other immune cells to combat cancer. So far this process worked only for certain cancer and few patients. It is considered to be an important scientific breakthrough. Though the ultimate impact on the disease is not known, it was reported the results so far have been highlighting its success. It is possible immunotherapy in future may find solution for many other diseases. He is the only person I can ask, where that is possible. I was there a few weeks back at Edinburgh University. I saw something I thought sharing to the young doctors. Professor Chandran, in one of the laboratories, showed his work on deploying technologies technologies typically used for eye care professionals and use it to develop detect neural disorders. Let me read it. Professor Chandran, he is from Edinburgh University, a laboratory I visited, cancer laboratory, showed his work on deploying technologies typically used by eye care professionals and use it to help detect neural disorders. Using optical scanner devices, his team is mapping the inside of the eye, particular retina. They are going further and targeting the optical nerve, a small opening into the retina which carries neurons and photoreceptors from the eye to the brain. Using the advanced technology they are able to peep down the optical nerves in the specific region of the brain and make a longitudinal and cross section image of it These images clearly show any odd neural pattern or any potentially at least neural form Thus using this technology Professor Chandran and his team is able to direct early disorders and administer preventive care in the typical area. Now friends, I would like to say that six virtues of medical care one we have to possess over the medical care. Let me now share with you six virtues which a medical caregiver should possess. This I have read in a book titled Medicine and Compassion authored by Ripochi, a Buddhist monk, Ripochi co-authored by David R. Schim, MD It's a nice book name of the book Compassion and Medical Care He is according to the authors first virtue is generosity that is the doctor should have a mind of generosity second virtue is pure ethics because just now I had a specialist in ethics area is here, ethics area and that I am very happy to know may I know sir who is that sir who is special medical medical ethics Dr. Hegde PM Hegde ok so first virtue is generosity the second virtue is pure ethics third is tolerance because you will be in the midst of pain there are doctors or nurses they always they are in the midst of pain that's why tolerance the fourth is perseverance doctor never gives up he will always say I can save this situation or save prevent the disease or cure the disease fifth is cultivating pure concentration when you see a patient he should feel my doctor sees me sees me through not just keep thermoscope and get away and the way you treat the patient he feels cultivating the pure concentration of the patient the last virtue is intelligent that means no field in the country in any part of the world needs updating because medical field in equipment in diagnosis, in treatment continuously every day is changing fortunately internet is there these virtues will empower the caregivers with a humane heart I am sure the medical who are present here and elsewhere will have all these six virtues that will reinforce confidence of the citizen in the healthcare system. So finally in conclusion, I would like to say what I will be remembered for. What I will be remembered for. Friends, I want to leave you with a thought today. What is the one action which will make you great? Every one of you has a page in the history of the world. What is that page? how do you make that page which is going to be referred by the prosperity there is a need to give a vision to their ambition what I will be remembered for each one of us has to ask the question what I will be remembered for and if you find an answer for this question in a few lines that out of box idea will drive you for the rest of your life you will definitely be thinking something different on our out of box vision. What are they? Can I visualize along with you? I am not a doctor but I want to visualize along with you. Each one of you will derive your own vision to remember. For example, see this light when you see this light immediately we remember a personality. Even though electricity was discovered on a long, long ago, but application was given to a person, Thomas Alva Edison. When the light you see, Thomas Alva Edison. When the telephone bell rings, you see. Remember Alexander Graham Bell. So, would a lady who got two Nobel Prizes, you will remember Madam Curie, because one for discovery of radium another she treated cancer patient using the radium for both she got two noble prize so they are all unique people so what I will be remembered for you will be definitely thinking something different an out of box mission today what are they you are going to say today what I will be remembered for can I visualize along with each one of you will derive your own vision. I am not putting boundary condition. Will you be remembered for bringing smiles of health and joy to all the patients? When the patient reaches you, you will be having haunted by patients. But smile, can you wear the smiles? Will you be remembered for helping creating a unique cost-effective vaccine against malaria? Myriadia is not going out of our country and thereby saving more than 1 million people mostly children who are in trouble. Will it be remembered for creating a road map for reviving the 23,000 primary health care centers across the nation which would enable them to deliver the much needed primary health facilities to a remote region. Madras doctors want to be in Madras. nobody want to go to the primary health centers will he be remembered as a champion of preventive this is very important sir will he be remembered as a champion of preventive health care in the areas of cardiology, diabetic and infectious diseases because you will be the great teacher, you are treating a patient patient doesn't come alone, he comes with his family and when the patient gets cured, you become a teacher. When you teach, when you tell him how he got the disease, how it can be prevented, he will give you attention to you. He will care for you. Will he be remembered as a great teacher in preventing care for diseased families of patients? Will he be remembered for contributing in a unique way in finding a cure for diseases such as cancer and HIV? now friends my best wishes to all of you for success in your mission of removing the pain of the needy patient may God bless you all Thank you.\"}"
            ]
          },
          "metadata": {},
          "execution_count": 3
        }
      ]
    },
    {
      "cell_type": "code",
      "source": [
        "transcribed_text = transcription_result['text']\n",
        "transcribed_text"
      ],
      "metadata": {
        "colab": {
          "base_uri": "https://localhost:8080/"
        },
        "id": "KDAf0zLxUmpO",
        "outputId": "bac87717-67d8-4e95-8267-4a49ce03f6dd"
      },
      "execution_count": null,
      "outputs": [
        {
          "output_type": "execute_result",
          "data": {
            "text/plain": [
              "\" First, friends, I want to leave you with a thought today. What is the one action which will make you great? Every one of you has a page in the history of the world. What is that page? How do you make that page which is going to be referred by the prosperity? There is a need to give a vision to your ambition. What I will be remembered for? What I will be remembered for? President said and there in May we saw first time how 48 degree Celsius will be there and outside the outside temperature and then midday we conducted the test and that made India a nuclear weapon state and that also gave me another type of happiness. Then I said, okay, these are all some different, some space. I said, we prepare for the nation. I prepared for the nation, India 2020 mission. How by the year 2020, India can be an economically developed nation. We give a blueprint, a road map in 1998 with the complete area specified and what should be done. and this book finally a book also come India twenty three famous book and all these things another work including parliament discussed and politically they accepted those days so all these things happened but she was nothing impressed my student you know student when you are taking class you will know she said I didn't ask all these things but you give me one thing which gave you bliss means anand, equalities anand. Now, finally, I told them, see, when I was in DRDL Hyderabad, I was working as a director of the establishment and also specializing in composite material, how to make a composite material. The Agni missile, the introduction I gave for Agni, carry what is called a heat shield, because when it re-enters with 15 times the sound speed, re-entry time before 2000 kilometer goes, the temperature outside will be normally 4500 degree Kelvin. It will be burning. It's a flame. That means inside, inside the nose cone, inside the heat shield, the material what you carry, it may be any important material and that should be in temperature the room temperature what you are having. This is the requirement. So we developed a material called carbon-carbon material. You know carbon composite. This carbon-carbon material we developed, the tip we have put this follow so that whenever temperature, very high temperature flame comes in, this will protect inside will be always 25-28 degree Celsius. So this very light material we used. So this is called heat shield for agaric. One day, an orthopaedic friend, Professor B.N. Prasad, at that time he was an Islamic of medical science, he was an orthopaedic surgeon. One day, he was visiting me. The orthopaedic surgeon was visiting my lab. I showed him the precious thing, the heat shield. She lifted, he found it's very light, very light, very light. He was always saying very light. And then, and heavy, strength also, you see, very high temperature, strength also very low. So strength will be kept always. So all this thing was highly impressed. He said, Kalam, I want to take you to my orthopedic ward in Exhaustion of Medical Science. So he put me in his car and took me to the hospital and took me to the orthopedic ward. There were 30-40 people who were having knee surgery. And about 15 young boys and girls they had the caliper fitted. You know, for a polio patient they fit the caliper. That caliper, each caliper put together weighs 4 kilograms. He told me see that as soon as we went they were removed that caliper they did not wear it as soon as we saw the doctor immediately started fitting it so heavy he said so uncomfortable he told me you see the seam and you have got a fantastic material what the use of missile why not you use that material missile material use it for this my children so we took this a challenge we took dimension we took 22 moles we made in 2 weeks time then we got 15 15 calibers we call it a flow reaction orthosis and I took it to hospital with my team composite team and we fitted to each child and child when they were so light they started running because that 4 kilogram becomes 400 gram 4 kilogram 400 gram the children were so happy and they started running when the mother saw this one they thought I saw the tears I said that was the bliss I got I told So, my all of you my feeling is that answers as my student. All of you are fortunate to be in a noble profession to remove the pain with compassion and experience. Very important. See, one is treatment others is compassion. Both today I was in Thiruvallur at a school. I one girl asked me a question, about 12 questions were there. One question she asked. Before her question I answered, I asked, what class you are studying? The girl said, I am 10 plus 1. What subject you are studying? She said, medical subject she has taken. That is biology, medical science, and physics, biosex, bioscience, all these things she has taken. And I hope you are becoming a doctor. I said, yes, my dream is to become a doctor so that I can remove the pain, she said. Fantastic statement the girl made. I want to remove the pain. But you know, I said, my answer was, you know, normally we all of us human beings, we have one biological heart, isn't it? All of us got one biological heart. But doctors should have two hearts, I said. Apart from biological heart, they must have one more heart. So the question I asked, what is the second heart? Nobody even can. Finally I said, it's a kind heart. Because doctor's service, medical service needs compassion to the patient. because you find not one patient. You have to treat hundreds of patients with pain. In that environment, you have need kindness and compassion. So I visualize all the doctors. They have got two hearts. Good doctors. Now medical profession, one of the important things, friends, when I see Dr. Sanjeevi's life, Dr. Ramudhi's life and all your life, I see one great quality we need what is called culture of excellence. Culture of excellence. All of you can hear me? Yes. Last row? Yes. Friends, you belong to the medical community of multiple fields. You should stand for a culture of excellence. The excellence not by accident. It is a process where an individual continuously strives to better oneself. The performance standards are set by themselves. They work on their dreams with focus and are prepared to take calculated risks and do not get deterred by failures as they move towards their dreams. Then they step up their dreams as they tend to reach the original targets. They strive to work to their potential. In the process they increase their performance thereby multiplying further their potential. This is an unending life cycle phenomena culture of excellence. They are not in competition with anyone else but themselves. that is a culture of excellence I am sure each one of you will aspire to become a unique with culture of excellence because that is needed when you see a patient and the diagnosis method has changed and the treatment methods have changed and you are the one area you have to be completely updated continuously that means your knowledge should continuously needs needs addition addition friends medicine when I am seeing all of you medicine is undergoing a paradigm shift the understanding of genome the dynamics of proteins and ability of technology to see various process of the cells have zeroed on to inflammation. Inflammation is the root of all the diseases. You will agree. Now with these discoveries also came a scientific advances in understanding the underlying mechanisms of disease leading to innovative therapies that focus on addressing the cause of disease instead of just treating symptoms. It is essential our medical scientists and clinicians working in the field of healthcare and research have to revisit traditional pharmacological approaches to medicine and healthcare and develop scientific treatment protocols to use them for many acute and chronic disease and disorders. Now, when I am telling you in 2013, that is last year, cancer research found a sea change in research and development because I visited the Anderson laboratory in USA according to the science journal is called the advanced of science promising results emerged from the clinical trials of cancer immunotherapy cancer immunotherapy in which treatment target the body's immune system rather than tumors directly. Tumor flow, you know, in cancer, you will treat something, it will come somewhere else. Okay. So, the question is, the 2013 research says, the immune system targets the body's immune system rather than the tumors directly. The treatment pushed T cells and other immune cells to combat cancer. So far this process worked only for certain cancer and few patients. It is considered to be an important scientific breakthrough. Though the ultimate impact on the disease is not known, it was reported the results so far have been highlighting its success. It is possible immunotherapy in future may find solution for many other diseases. He is the only person I can ask, where that is possible. I was there a few weeks back at Edinburgh University. I saw something I thought sharing to the young doctors. Professor Chandran, in one of the laboratories, showed his work on deploying technologies technologies typically used for eye care professionals and use it to develop detect neural disorders. Let me read it. Professor Chandran, he is from Edinburgh University, a laboratory I visited, cancer laboratory, showed his work on deploying technologies typically used by eye care professionals and use it to help detect neural disorders. Using optical scanner devices, his team is mapping the inside of the eye, particular retina. They are going further and targeting the optical nerve, a small opening into the retina which carries neurons and photoreceptors from the eye to the brain. Using the advanced technology they are able to peep down the optical nerves in the specific region of the brain and make a longitudinal and cross section image of it These images clearly show any odd neural pattern or any potentially at least neural form Thus using this technology Professor Chandran and his team is able to direct early disorders and administer preventive care in the typical area. Now friends, I would like to say that six virtues of medical care one we have to possess over the medical care. Let me now share with you six virtues which a medical caregiver should possess. This I have read in a book titled Medicine and Compassion authored by Ripochi, a Buddhist monk, Ripochi co-authored by David R. Schim, MD It's a nice book name of the book Compassion and Medical Care He is according to the authors first virtue is generosity that is the doctor should have a mind of generosity second virtue is pure ethics because just now I had a specialist in ethics area is here, ethics area and that I am very happy to know may I know sir who is that sir who is special medical medical ethics Dr. Hegde PM Hegde ok so first virtue is generosity the second virtue is pure ethics third is tolerance because you will be in the midst of pain there are doctors or nurses they always they are in the midst of pain that's why tolerance the fourth is perseverance doctor never gives up he will always say I can save this situation or save prevent the disease or cure the disease fifth is cultivating pure concentration when you see a patient he should feel my doctor sees me sees me through not just keep thermoscope and get away and the way you treat the patient he feels cultivating the pure concentration of the patient the last virtue is intelligent that means no field in the country in any part of the world needs updating because medical field in equipment in diagnosis, in treatment continuously every day is changing fortunately internet is there these virtues will empower the caregivers with a humane heart I am sure the medical who are present here and elsewhere will have all these six virtues that will reinforce confidence of the citizen in the healthcare system. So finally in conclusion, I would like to say what I will be remembered for. What I will be remembered for. Friends, I want to leave you with a thought today. What is the one action which will make you great? Every one of you has a page in the history of the world. What is that page? how do you make that page which is going to be referred by the prosperity there is a need to give a vision to their ambition what I will be remembered for each one of us has to ask the question what I will be remembered for and if you find an answer for this question in a few lines that out of box idea will drive you for the rest of your life you will definitely be thinking something different on our out of box vision. What are they? Can I visualize along with you? I am not a doctor but I want to visualize along with you. Each one of you will derive your own vision to remember. For example, see this light when you see this light immediately we remember a personality. Even though electricity was discovered on a long, long ago, but application was given to a person, Thomas Alva Edison. When the light you see, Thomas Alva Edison. When the telephone bell rings, you see. Remember Alexander Graham Bell. So, would a lady who got two Nobel Prizes, you will remember Madam Curie, because one for discovery of radium another she treated cancer patient using the radium for both she got two noble prize so they are all unique people so what I will be remembered for you will be definitely thinking something different an out of box mission today what are they you are going to say today what I will be remembered for can I visualize along with each one of you will derive your own vision. I am not putting boundary condition. Will you be remembered for bringing smiles of health and joy to all the patients? When the patient reaches you, you will be having haunted by patients. But smile, can you wear the smiles? Will you be remembered for helping creating a unique cost-effective vaccine against malaria? Myriadia is not going out of our country and thereby saving more than 1 million people mostly children who are in trouble. Will it be remembered for creating a road map for reviving the 23,000 primary health care centers across the nation which would enable them to deliver the much needed primary health facilities to a remote region. Madras doctors want to be in Madras. nobody want to go to the primary health centers will he be remembered as a champion of preventive this is very important sir will he be remembered as a champion of preventive health care in the areas of cardiology, diabetic and infectious diseases because you will be the great teacher, you are treating a patient patient doesn't come alone, he comes with his family and when the patient gets cured, you become a teacher. When you teach, when you tell him how he got the disease, how it can be prevented, he will give you attention to you. He will care for you. Will he be remembered as a great teacher in preventing care for diseased families of patients? Will he be remembered for contributing in a unique way in finding a cure for diseases such as cancer and HIV? now friends my best wishes to all of you for success in your mission of removing the pain of the needy patient may God bless you all Thank you.\""
            ],
            "application/vnd.google.colaboratory.intrinsic+json": {
              "type": "string"
            }
          },
          "metadata": {},
          "execution_count": 4
        }
      ]
    },
    {
      "cell_type": "code",
      "source": [
        "import matplotlib.pyplot as plt\n",
        "import numpy as np\n",
        "import librosa.display\n",
        "import wave"
      ],
      "metadata": {
        "id": "8RIeakJJWPbG"
      },
      "execution_count": null,
      "outputs": []
    },
    {
      "cell_type": "code",
      "source": [
        "import librosa\n",
        "# Load audio file\n",
        "audio_signal, sample_rate = librosa.load(audio_file_path, sr=None)\n"
      ],
      "metadata": {
        "colab": {
          "base_uri": "https://localhost:8080/"
        },
        "id": "rtpYf6kDWcUt",
        "outputId": "06e40bc4-1b21-454a-c946-d260e4b520c4"
      },
      "execution_count": null,
      "outputs": [
        {
          "output_type": "stream",
          "name": "stderr",
          "text": [
            "<ipython-input-6-87a1eb3ed5ca>:3: UserWarning: PySoundFile failed. Trying audioread instead.\n",
            "  audio_signal, sample_rate = librosa.load(audio_file_path, sr=None)\n",
            "/usr/local/lib/python3.10/dist-packages/librosa/core/audio.py:183: FutureWarning: librosa.core.audio.__audioread_load\n",
            "\tDeprecated as of librosa version 0.10.0.\n",
            "\tIt will be removed in librosa version 1.0.\n",
            "  y, sr_native = __audioread_load(path, offset, duration, dtype)\n"
          ]
        }
      ]
    },
    {
      "cell_type": "code",
      "source": [
        "import soundfile as sf\n",
        "# Load audio file\n",
        "audio_signal,sample_rate = sf.read(audio_file_path)\n"
      ],
      "metadata": {
        "colab": {
          "base_uri": "https://localhost:8080/"
        },
        "id": "25mjaIhqWiB1",
        "outputId": "856701eb-0dee-4a7e-9843-e31d3174c3c0"
      },
      "execution_count": null,
      "outputs": [
        {
          "output_type": "error",
          "ename": "LibsndfileError",
          "evalue": "Error opening '/content/ab.mp3': File does not exist or is not a regular file (possibly a pipe?).",
          "traceback": [
            "\u001b[0;31m---------------------------------------------------------------------------\u001b[0m",
            "\u001b[0;31mLibsndfileError\u001b[0m                           Traceback (most recent call last)",
            "\u001b[0;32m<ipython-input-7-47708778b2b8>\u001b[0m in \u001b[0;36m<cell line: 3>\u001b[0;34m()\u001b[0m\n\u001b[1;32m      1\u001b[0m \u001b[0;32mimport\u001b[0m \u001b[0msoundfile\u001b[0m \u001b[0;32mas\u001b[0m \u001b[0msf\u001b[0m\u001b[0;34m\u001b[0m\u001b[0;34m\u001b[0m\u001b[0m\n\u001b[1;32m      2\u001b[0m \u001b[0;31m# Load audio file\u001b[0m\u001b[0;34m\u001b[0m\u001b[0;34m\u001b[0m\u001b[0m\n\u001b[0;32m----> 3\u001b[0;31m \u001b[0maudio_signal\u001b[0m\u001b[0;34m,\u001b[0m\u001b[0msample_rate\u001b[0m \u001b[0;34m=\u001b[0m \u001b[0msf\u001b[0m\u001b[0;34m.\u001b[0m\u001b[0mread\u001b[0m\u001b[0;34m(\u001b[0m\u001b[0maudio_file_path\u001b[0m\u001b[0;34m)\u001b[0m\u001b[0;34m\u001b[0m\u001b[0;34m\u001b[0m\u001b[0m\n\u001b[0m",
            "\u001b[0;32m/usr/local/lib/python3.10/dist-packages/soundfile.py\u001b[0m in \u001b[0;36mread\u001b[0;34m(file, frames, start, stop, dtype, always_2d, fill_value, out, samplerate, channels, format, subtype, endian, closefd)\u001b[0m\n\u001b[1;32m    283\u001b[0m \u001b[0;34m\u001b[0m\u001b[0m\n\u001b[1;32m    284\u001b[0m     \"\"\"\n\u001b[0;32m--> 285\u001b[0;31m     with SoundFile(file, 'r', samplerate, channels,\n\u001b[0m\u001b[1;32m    286\u001b[0m                    subtype, endian, format, closefd) as f:\n\u001b[1;32m    287\u001b[0m         \u001b[0mframes\u001b[0m \u001b[0;34m=\u001b[0m \u001b[0mf\u001b[0m\u001b[0;34m.\u001b[0m\u001b[0m_prepare_read\u001b[0m\u001b[0;34m(\u001b[0m\u001b[0mstart\u001b[0m\u001b[0;34m,\u001b[0m \u001b[0mstop\u001b[0m\u001b[0;34m,\u001b[0m \u001b[0mframes\u001b[0m\u001b[0;34m)\u001b[0m\u001b[0;34m\u001b[0m\u001b[0;34m\u001b[0m\u001b[0m\n",
            "\u001b[0;32m/usr/local/lib/python3.10/dist-packages/soundfile.py\u001b[0m in \u001b[0;36m__init__\u001b[0;34m(self, file, mode, samplerate, channels, subtype, endian, format, closefd)\u001b[0m\n\u001b[1;32m    656\u001b[0m         self._info = _create_info_struct(file, mode, samplerate, channels,\n\u001b[1;32m    657\u001b[0m                                          format, subtype, endian)\n\u001b[0;32m--> 658\u001b[0;31m         \u001b[0mself\u001b[0m\u001b[0;34m.\u001b[0m\u001b[0m_file\u001b[0m \u001b[0;34m=\u001b[0m \u001b[0mself\u001b[0m\u001b[0;34m.\u001b[0m\u001b[0m_open\u001b[0m\u001b[0;34m(\u001b[0m\u001b[0mfile\u001b[0m\u001b[0;34m,\u001b[0m \u001b[0mmode_int\u001b[0m\u001b[0;34m,\u001b[0m \u001b[0mclosefd\u001b[0m\u001b[0;34m)\u001b[0m\u001b[0;34m\u001b[0m\u001b[0;34m\u001b[0m\u001b[0m\n\u001b[0m\u001b[1;32m    659\u001b[0m         \u001b[0;32mif\u001b[0m \u001b[0mset\u001b[0m\u001b[0;34m(\u001b[0m\u001b[0mmode\u001b[0m\u001b[0;34m)\u001b[0m\u001b[0;34m.\u001b[0m\u001b[0missuperset\u001b[0m\u001b[0;34m(\u001b[0m\u001b[0;34m'r+'\u001b[0m\u001b[0;34m)\u001b[0m \u001b[0;32mand\u001b[0m \u001b[0mself\u001b[0m\u001b[0;34m.\u001b[0m\u001b[0mseekable\u001b[0m\u001b[0;34m(\u001b[0m\u001b[0;34m)\u001b[0m\u001b[0;34m:\u001b[0m\u001b[0;34m\u001b[0m\u001b[0;34m\u001b[0m\u001b[0m\n\u001b[1;32m    660\u001b[0m             \u001b[0;31m# Move write position to 0 (like in Python file objects)\u001b[0m\u001b[0;34m\u001b[0m\u001b[0;34m\u001b[0m\u001b[0m\n",
            "\u001b[0;32m/usr/local/lib/python3.10/dist-packages/soundfile.py\u001b[0m in \u001b[0;36m_open\u001b[0;34m(self, file, mode_int, closefd)\u001b[0m\n\u001b[1;32m   1214\u001b[0m             \u001b[0;31m# get the actual error code\u001b[0m\u001b[0;34m\u001b[0m\u001b[0;34m\u001b[0m\u001b[0m\n\u001b[1;32m   1215\u001b[0m             \u001b[0merr\u001b[0m \u001b[0;34m=\u001b[0m \u001b[0m_snd\u001b[0m\u001b[0;34m.\u001b[0m\u001b[0msf_error\u001b[0m\u001b[0;34m(\u001b[0m\u001b[0mfile_ptr\u001b[0m\u001b[0;34m)\u001b[0m\u001b[0;34m\u001b[0m\u001b[0;34m\u001b[0m\u001b[0m\n\u001b[0;32m-> 1216\u001b[0;31m             \u001b[0;32mraise\u001b[0m \u001b[0mLibsndfileError\u001b[0m\u001b[0;34m(\u001b[0m\u001b[0merr\u001b[0m\u001b[0;34m,\u001b[0m \u001b[0mprefix\u001b[0m\u001b[0;34m=\u001b[0m\u001b[0;34m\"Error opening {0!r}: \"\u001b[0m\u001b[0;34m.\u001b[0m\u001b[0mformat\u001b[0m\u001b[0;34m(\u001b[0m\u001b[0mself\u001b[0m\u001b[0;34m.\u001b[0m\u001b[0mname\u001b[0m\u001b[0;34m)\u001b[0m\u001b[0;34m)\u001b[0m\u001b[0;34m\u001b[0m\u001b[0;34m\u001b[0m\u001b[0m\n\u001b[0m\u001b[1;32m   1217\u001b[0m         \u001b[0;32mif\u001b[0m \u001b[0mmode_int\u001b[0m \u001b[0;34m==\u001b[0m \u001b[0m_snd\u001b[0m\u001b[0;34m.\u001b[0m\u001b[0mSFM_WRITE\u001b[0m\u001b[0;34m:\u001b[0m\u001b[0;34m\u001b[0m\u001b[0;34m\u001b[0m\u001b[0m\n\u001b[1;32m   1218\u001b[0m             \u001b[0;31m# Due to a bug in libsndfile version <= 1.0.25, frames != 0\u001b[0m\u001b[0;34m\u001b[0m\u001b[0;34m\u001b[0m\u001b[0m\n",
            "\u001b[0;31mLibsndfileError\u001b[0m: Error opening '/content/ab.mp3': File does not exist or is not a regular file (possibly a pipe?)."
          ]
        }
      ]
    },
    {
      "cell_type": "code",
      "source": [
        "# Get audio signal and sample rate\n",
        "audio_signal, sample_rate = librosa.load(audio_file_path, sr=None)"
      ],
      "metadata": {
        "id": "P8dzQLmkWvX3"
      },
      "execution_count": null,
      "outputs": []
    },
    {
      "cell_type": "code",
      "source": [
        "# Plot waveform\n",
        "plt.figure(figsize=(10, 3))\n",
        "plt.plot(np.linspace(0, len(audio_signal) / sample_rate, num=len(audio_signal)), audio_signal)\n",
        "plt.xlabel('Time (s)')\n",
        "plt.ylabel('Amplitude')\n",
        "plt.title('Waveform')\n",
        "plt.grid()\n",
        "plt.show()"
      ],
      "metadata": {
        "id": "hXythA_-W1G8"
      },
      "execution_count": null,
      "outputs": []
    },
    {
      "cell_type": "code",
      "source": [
        "# Plot spectrogram\n",
        "plt.figure(figsize=(10, 3))\n",
        "librosa.display.specshow(librosa.amplitude_to_db(np.abs(librosa.stft(audio_signal)), ref=np.max), sr=sample_rate, x_axis='time', y_axis='log')\n",
        "plt.colorbar(format='%+2.0f dB')\n",
        "plt.title('Spectrogram')\n",
        "plt.show()"
      ],
      "metadata": {
        "id": "EuhT3DpYW5kk"
      },
      "execution_count": null,
      "outputs": []
    },
    {
      "cell_type": "code",
      "source": [
        "# Load model directly\n",
        "from transformers import AutoProcessor, AutoModelForSpeechSeq2Seq\n",
        "\n",
        "processor = AutoProcessor.from_pretrained(\"openai/whisper-large-v3\")\n",
        "model = AutoModelForSpeechSeq2Seq.from_pretrained(\"openai/whisper-large-v3\")"
      ],
      "metadata": {
        "id": "z4qnk9AHXTV0"
      },
      "execution_count": null,
      "outputs": []
    },
    {
      "cell_type": "code",
      "source": [
        "print(processor)"
      ],
      "metadata": {
        "id": "yrj9S2IpXjzD"
      },
      "execution_count": null,
      "outputs": []
    },
    {
      "cell_type": "code",
      "source": [
        "print(model)"
      ],
      "metadata": {
        "id": "61JP3VP_YIW_"
      },
      "execution_count": null,
      "outputs": []
    },
    {
      "cell_type": "code",
      "source": [],
      "metadata": {
        "id": "EB1xidg9YN9K"
      },
      "execution_count": null,
      "outputs": []
    }
  ]
}