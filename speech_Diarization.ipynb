{
  "nbformat": 4,
  "nbformat_minor": 0,
  "metadata": {
    "colab": {
      "provenance": [],
      "gpuType": "T4",
      "include_colab_link": true
    },
    "kernelspec": {
      "name": "python3",
      "display_name": "Python 3"
    },
    "language_info": {
      "name": "python"
    },
    "accelerator": "GPU"
  },
  "cells": [
    {
      "cell_type": "markdown",
      "metadata": {
        "id": "view-in-github",
        "colab_type": "text"
      },
      "source": [
        "<a href=\"https://colab.research.google.com/github/mahalakruth/SAJRA/blob/main/speech_Diarization.ipynb\" target=\"_parent\"><img src=\"https://colab.research.google.com/assets/colab-badge.svg\" alt=\"Open In Colab\"/></a>"
      ]
    },
    {
      "cell_type": "code",
      "execution_count": 1,
      "metadata": {
        "colab": {
          "base_uri": "https://localhost:8080/",
          "height": 73
        },
        "id": "nLQH4hYwLeUl",
        "outputId": "d73e9678-d129-4aca-9866-8318301bcaad"
      },
      "outputs": [
        {
          "output_type": "display_data",
          "data": {
            "text/plain": [
              "<IPython.core.display.HTML object>"
            ],
            "text/html": [
              "\n",
              "     <input type=\"file\" id=\"files-54a52460-41a7-474e-aecc-6b9ff7319a84\" name=\"files[]\" multiple disabled\n",
              "        style=\"border:none\" />\n",
              "     <output id=\"result-54a52460-41a7-474e-aecc-6b9ff7319a84\">\n",
              "      Upload widget is only available when the cell has been executed in the\n",
              "      current browser session. Please rerun this cell to enable.\n",
              "      </output>\n",
              "      <script>// Copyright 2017 Google LLC\n",
              "//\n",
              "// Licensed under the Apache License, Version 2.0 (the \"License\");\n",
              "// you may not use this file except in compliance with the License.\n",
              "// You may obtain a copy of the License at\n",
              "//\n",
              "//      http://www.apache.org/licenses/LICENSE-2.0\n",
              "//\n",
              "// Unless required by applicable law or agreed to in writing, software\n",
              "// distributed under the License is distributed on an \"AS IS\" BASIS,\n",
              "// WITHOUT WARRANTIES OR CONDITIONS OF ANY KIND, either express or implied.\n",
              "// See the License for the specific language governing permissions and\n",
              "// limitations under the License.\n",
              "\n",
              "/**\n",
              " * @fileoverview Helpers for google.colab Python module.\n",
              " */\n",
              "(function(scope) {\n",
              "function span(text, styleAttributes = {}) {\n",
              "  const element = document.createElement('span');\n",
              "  element.textContent = text;\n",
              "  for (const key of Object.keys(styleAttributes)) {\n",
              "    element.style[key] = styleAttributes[key];\n",
              "  }\n",
              "  return element;\n",
              "}\n",
              "\n",
              "// Max number of bytes which will be uploaded at a time.\n",
              "const MAX_PAYLOAD_SIZE = 100 * 1024;\n",
              "\n",
              "function _uploadFiles(inputId, outputId) {\n",
              "  const steps = uploadFilesStep(inputId, outputId);\n",
              "  const outputElement = document.getElementById(outputId);\n",
              "  // Cache steps on the outputElement to make it available for the next call\n",
              "  // to uploadFilesContinue from Python.\n",
              "  outputElement.steps = steps;\n",
              "\n",
              "  return _uploadFilesContinue(outputId);\n",
              "}\n",
              "\n",
              "// This is roughly an async generator (not supported in the browser yet),\n",
              "// where there are multiple asynchronous steps and the Python side is going\n",
              "// to poll for completion of each step.\n",
              "// This uses a Promise to block the python side on completion of each step,\n",
              "// then passes the result of the previous step as the input to the next step.\n",
              "function _uploadFilesContinue(outputId) {\n",
              "  const outputElement = document.getElementById(outputId);\n",
              "  const steps = outputElement.steps;\n",
              "\n",
              "  const next = steps.next(outputElement.lastPromiseValue);\n",
              "  return Promise.resolve(next.value.promise).then((value) => {\n",
              "    // Cache the last promise value to make it available to the next\n",
              "    // step of the generator.\n",
              "    outputElement.lastPromiseValue = value;\n",
              "    return next.value.response;\n",
              "  });\n",
              "}\n",
              "\n",
              "/**\n",
              " * Generator function which is called between each async step of the upload\n",
              " * process.\n",
              " * @param {string} inputId Element ID of the input file picker element.\n",
              " * @param {string} outputId Element ID of the output display.\n",
              " * @return {!Iterable<!Object>} Iterable of next steps.\n",
              " */\n",
              "function* uploadFilesStep(inputId, outputId) {\n",
              "  const inputElement = document.getElementById(inputId);\n",
              "  inputElement.disabled = false;\n",
              "\n",
              "  const outputElement = document.getElementById(outputId);\n",
              "  outputElement.innerHTML = '';\n",
              "\n",
              "  const pickedPromise = new Promise((resolve) => {\n",
              "    inputElement.addEventListener('change', (e) => {\n",
              "      resolve(e.target.files);\n",
              "    });\n",
              "  });\n",
              "\n",
              "  const cancel = document.createElement('button');\n",
              "  inputElement.parentElement.appendChild(cancel);\n",
              "  cancel.textContent = 'Cancel upload';\n",
              "  const cancelPromise = new Promise((resolve) => {\n",
              "    cancel.onclick = () => {\n",
              "      resolve(null);\n",
              "    };\n",
              "  });\n",
              "\n",
              "  // Wait for the user to pick the files.\n",
              "  const files = yield {\n",
              "    promise: Promise.race([pickedPromise, cancelPromise]),\n",
              "    response: {\n",
              "      action: 'starting',\n",
              "    }\n",
              "  };\n",
              "\n",
              "  cancel.remove();\n",
              "\n",
              "  // Disable the input element since further picks are not allowed.\n",
              "  inputElement.disabled = true;\n",
              "\n",
              "  if (!files) {\n",
              "    return {\n",
              "      response: {\n",
              "        action: 'complete',\n",
              "      }\n",
              "    };\n",
              "  }\n",
              "\n",
              "  for (const file of files) {\n",
              "    const li = document.createElement('li');\n",
              "    li.append(span(file.name, {fontWeight: 'bold'}));\n",
              "    li.append(span(\n",
              "        `(${file.type || 'n/a'}) - ${file.size} bytes, ` +\n",
              "        `last modified: ${\n",
              "            file.lastModifiedDate ? file.lastModifiedDate.toLocaleDateString() :\n",
              "                                    'n/a'} - `));\n",
              "    const percent = span('0% done');\n",
              "    li.appendChild(percent);\n",
              "\n",
              "    outputElement.appendChild(li);\n",
              "\n",
              "    const fileDataPromise = new Promise((resolve) => {\n",
              "      const reader = new FileReader();\n",
              "      reader.onload = (e) => {\n",
              "        resolve(e.target.result);\n",
              "      };\n",
              "      reader.readAsArrayBuffer(file);\n",
              "    });\n",
              "    // Wait for the data to be ready.\n",
              "    let fileData = yield {\n",
              "      promise: fileDataPromise,\n",
              "      response: {\n",
              "        action: 'continue',\n",
              "      }\n",
              "    };\n",
              "\n",
              "    // Use a chunked sending to avoid message size limits. See b/62115660.\n",
              "    let position = 0;\n",
              "    do {\n",
              "      const length = Math.min(fileData.byteLength - position, MAX_PAYLOAD_SIZE);\n",
              "      const chunk = new Uint8Array(fileData, position, length);\n",
              "      position += length;\n",
              "\n",
              "      const base64 = btoa(String.fromCharCode.apply(null, chunk));\n",
              "      yield {\n",
              "        response: {\n",
              "          action: 'append',\n",
              "          file: file.name,\n",
              "          data: base64,\n",
              "        },\n",
              "      };\n",
              "\n",
              "      let percentDone = fileData.byteLength === 0 ?\n",
              "          100 :\n",
              "          Math.round((position / fileData.byteLength) * 100);\n",
              "      percent.textContent = `${percentDone}% done`;\n",
              "\n",
              "    } while (position < fileData.byteLength);\n",
              "  }\n",
              "\n",
              "  // All done.\n",
              "  yield {\n",
              "    response: {\n",
              "      action: 'complete',\n",
              "    }\n",
              "  };\n",
              "}\n",
              "\n",
              "scope.google = scope.google || {};\n",
              "scope.google.colab = scope.google.colab || {};\n",
              "scope.google.colab._files = {\n",
              "  _uploadFiles,\n",
              "  _uploadFilesContinue,\n",
              "};\n",
              "})(self);\n",
              "</script> "
            ]
          },
          "metadata": {}
        },
        {
          "output_type": "stream",
          "name": "stdout",
          "text": [
            "Saving double.wav to double.wav\n"
          ]
        }
      ],
      "source": [
        "# upload audio file\n",
        "from google.colab import files\n",
        "uploaded = files.upload()\n",
        "path = next(iter(uploaded))"
      ]
    },
    {
      "cell_type": "code",
      "source": [
        "num_speakers = 2 #@param {type:\"integer\"}\n",
        "\n",
        "language = 'English' #@param ['any', 'English']\n",
        "\n",
        "model_size = 'large' #@param ['tiny', 'base', 'small', 'medium', 'large']\n",
        "\n",
        "\n",
        "model_name = model_size\n",
        "if language == 'English' and model_size != 'large':\n",
        "  model_name += '.en'"
      ],
      "metadata": {
        "id": "La_gCYtqMlo5"
      },
      "execution_count": 2,
      "outputs": []
    },
    {
      "cell_type": "code",
      "source": [
        "!pip install -q git+https://github.com/openai/whisper.git > /dev/null\n",
        "!pip install -q git+https://github.com/pyannote/pyannote-audio > /dev/null\n",
        "import whisper\n",
        "import datetime\n",
        "import subprocess\n",
        "import torch\n",
        "import pyannote.audio\n",
        "from pyannote.audio.pipelines.speaker_verification import PretrainedSpeakerEmbedding\n",
        "# embedding_model = PretrainedSpeakerEmbedding(\"speechbrain/spkrec-ecapa-voxceleb\",device=torch.device(\"cuda\"))\n",
        "import torch\n",
        "import torch.nn as nn\n",
        "# Define a simple embedding model using PyTorch\n",
        "class MyEmbeddingModel(nn.Module):\n",
        "    def __init__(self):\n",
        "        super(MyEmbeddingModel, self).__init__()\n",
        "        # Define layers for your model\n",
        "        self.fc = nn.Linear(192, 256)  # Example linear layer\n",
        "    def forward(self, x):\n",
        "        # Forward pass of the model\n",
        "        x = self.fc(x)\n",
        "        return x\n",
        "# Initialize the embedding model\n",
        "embedding_model = MyEmbeddingModel()\n",
        "from pyannote.audio import Audio\n",
        "from pyannote.core import Segment\n",
        "import torchaudio\n",
        "# from speechbrain.inference.speaker import EncoderClassifier\n",
        "# classifier = EncoderClassifier.from_hparams(source=\"speechbrain/spkrec-ecapa-voxceleb\")\n",
        "import wave\n",
        "import contextlib\n",
        "from sklearn.cluster import AgglomerativeClustering\n",
        "import numpy as np"
      ],
      "metadata": {
        "id": "1u-RTRbvMllh"
      },
      "execution_count": 4,
      "outputs": []
    },
    {
      "cell_type": "code",
      "source": [
        "if path[-3:] != 'wav':\n",
        "  subprocess.call(['ffmpeg', '-i', path, 'audio.wav', '-y'])\n",
        "  path = 'audio.wav'"
      ],
      "metadata": {
        "id": "KarMq8kwMljK"
      },
      "execution_count": 5,
      "outputs": []
    },
    {
      "cell_type": "code",
      "source": [
        "model = whisper.load_model(model_size)"
      ],
      "metadata": {
        "id": "_DO35mQqMlge",
        "colab": {
          "base_uri": "https://localhost:8080/"
        },
        "outputId": "a2fbda63-f601-4237-ceed-95b129d96f6e"
      },
      "execution_count": 6,
      "outputs": [
        {
          "output_type": "stream",
          "name": "stderr",
          "text": [
            "100%|█████████████████████████████████████| 2.88G/2.88G [00:32<00:00, 94.3MiB/s]\n"
          ]
        }
      ]
    },
    {
      "cell_type": "code",
      "source": [
        "result = model.transcribe(path)\n",
        "segments = result[\"segments\"]"
      ],
      "metadata": {
        "id": "vMEDfpZ9Mld2"
      },
      "execution_count": 7,
      "outputs": []
    },
    {
      "cell_type": "code",
      "source": [
        "print(result)"
      ],
      "metadata": {
        "colab": {
          "base_uri": "https://localhost:8080/"
        },
        "id": "aSCe9aqc7Xnj",
        "outputId": "2202b3ac-9f06-4f66-93bc-4e5da097d323"
      },
      "execution_count": 10,
      "outputs": [
        {
          "output_type": "stream",
          "name": "stdout",
          "text": [
            "{'text': \" Bella. How are you, love? Oh. How are you? Oh, I'm okay. Or I will be. I said she could stay with us, Marge, until she feels better. Of course she can. No, this won't be for long. Well, you can stay as long as you want, my love. I really missed you. Pops. Great to see you, love. Oh.\", 'segments': [{'id': 0, 'seek': 0, 'start': 0.0, 'end': 0.48, 'text': ' Bella.', 'tokens': [50365, 29133, 13, 50389], 'temperature': 0.0, 'avg_logprob': -0.37914823874449116, 'compression_ratio': 1.5053191489361701, 'no_speech_prob': 0.12908132374286652}, {'id': 1, 'seek': 0, 'start': 1.08, 'end': 2.84, 'text': ' How are you, love?', 'tokens': [50419, 1012, 366, 291, 11, 959, 30, 50507], 'temperature': 0.0, 'avg_logprob': -0.37914823874449116, 'compression_ratio': 1.5053191489361701, 'no_speech_prob': 0.12908132374286652}, {'id': 2, 'seek': 0, 'start': 3.02, 'end': 3.4, 'text': ' Oh.', 'tokens': [50516, 876, 13, 50535], 'temperature': 0.0, 'avg_logprob': -0.37914823874449116, 'compression_ratio': 1.5053191489361701, 'no_speech_prob': 0.12908132374286652}, {'id': 3, 'seek': 0, 'start': 4.14, 'end': 4.96, 'text': ' How are you?', 'tokens': [50572, 1012, 366, 291, 30, 50613], 'temperature': 0.0, 'avg_logprob': -0.37914823874449116, 'compression_ratio': 1.5053191489361701, 'no_speech_prob': 0.12908132374286652}, {'id': 4, 'seek': 0, 'start': 5.08, 'end': 6.38, 'text': \" Oh, I'm okay.\", 'tokens': [50619, 876, 11, 286, 478, 1392, 13, 50684], 'temperature': 0.0, 'avg_logprob': -0.37914823874449116, 'compression_ratio': 1.5053191489361701, 'no_speech_prob': 0.12908132374286652}, {'id': 5, 'seek': 0, 'start': 7.0, 'end': 7.8, 'text': ' Or I will be.', 'tokens': [50715, 1610, 286, 486, 312, 13, 50755], 'temperature': 0.0, 'avg_logprob': -0.37914823874449116, 'compression_ratio': 1.5053191489361701, 'no_speech_prob': 0.12908132374286652}, {'id': 6, 'seek': 0, 'start': 8.02, 'end': 9.34, 'text': ' I said she could stay with us, Marge,', 'tokens': [50766, 286, 848, 750, 727, 1754, 365, 505, 11, 2039, 432, 11, 50832], 'temperature': 0.0, 'avg_logprob': -0.37914823874449116, 'compression_ratio': 1.5053191489361701, 'no_speech_prob': 0.12908132374286652}, {'id': 7, 'seek': 0, 'start': 9.4, 'end': 10.16, 'text': ' until she feels better.', 'tokens': [50835, 1826, 750, 3417, 1101, 13, 50873], 'temperature': 0.0, 'avg_logprob': -0.37914823874449116, 'compression_ratio': 1.5053191489361701, 'no_speech_prob': 0.12908132374286652}, {'id': 8, 'seek': 0, 'start': 10.38, 'end': 12.1, 'text': ' Of course she can.', 'tokens': [50884, 2720, 1164, 750, 393, 13, 50970], 'temperature': 0.0, 'avg_logprob': -0.37914823874449116, 'compression_ratio': 1.5053191489361701, 'no_speech_prob': 0.12908132374286652}, {'id': 9, 'seek': 0, 'start': 12.280000000000001, 'end': 13.92, 'text': \" No, this won't be for long.\", 'tokens': [50979, 883, 11, 341, 1582, 380, 312, 337, 938, 13, 51061], 'temperature': 0.0, 'avg_logprob': -0.37914823874449116, 'compression_ratio': 1.5053191489361701, 'no_speech_prob': 0.12908132374286652}, {'id': 10, 'seek': 0, 'start': 14.040000000000001, 'end': 16.22, 'text': ' Well, you can stay as long as you want, my love.', 'tokens': [51067, 1042, 11, 291, 393, 1754, 382, 938, 382, 291, 528, 11, 452, 959, 13, 51176], 'temperature': 0.0, 'avg_logprob': -0.37914823874449116, 'compression_ratio': 1.5053191489361701, 'no_speech_prob': 0.12908132374286652}, {'id': 11, 'seek': 0, 'start': 16.4, 'end': 17.7, 'text': ' I really missed you.', 'tokens': [51185, 286, 534, 6721, 291, 13, 51250], 'temperature': 0.0, 'avg_logprob': -0.37914823874449116, 'compression_ratio': 1.5053191489361701, 'no_speech_prob': 0.12908132374286652}, {'id': 12, 'seek': 0, 'start': 18.38, 'end': 18.86, 'text': ' Pops.', 'tokens': [51284, 430, 3370, 13, 51308], 'temperature': 0.0, 'avg_logprob': -0.37914823874449116, 'compression_ratio': 1.5053191489361701, 'no_speech_prob': 0.12908132374286652}, {'id': 13, 'seek': 0, 'start': 19.02, 'end': 20.12, 'text': ' Great to see you, love.', 'tokens': [51316, 3769, 281, 536, 291, 11, 959, 13, 51371], 'temperature': 0.0, 'avg_logprob': -0.37914823874449116, 'compression_ratio': 1.5053191489361701, 'no_speech_prob': 0.12908132374286652}, {'id': 14, 'seek': 0, 'start': 20.3, 'end': 20.740000000000002, 'text': ' Oh.', 'tokens': [51380, 876, 13, 51402], 'temperature': 0.0, 'avg_logprob': -0.37914823874449116, 'compression_ratio': 1.5053191489361701, 'no_speech_prob': 0.12908132374286652}], 'language': 'en'}\n"
          ]
        }
      ]
    },
    {
      "cell_type": "code",
      "source": [
        "with contextlib.closing(wave.open(path,'r')) as f:\n",
        "  frames = f.getnframes()\n",
        "  rate = f.getframerate()\n",
        "  duration = frames / float(rate)"
      ],
      "metadata": {
        "id": "CM5WWfaSMlbW"
      },
      "execution_count": 8,
      "outputs": []
    },
    {
      "cell_type": "code",
      "source": [
        "audio = Audio()\n",
        "\n",
        "def segment_embedding(segment):\n",
        "  start = segment[\"start\"]\n",
        "  # Whisper overshoots the end timestamp in the last segment\n",
        "  end = min(duration, segment[\"end\"])\n",
        "  clip = Segment(start, end)\n",
        "  waveform, sample_rate = audio.crop(path, clip)\n",
        "  return embedding_model(waveform[None])"
      ],
      "metadata": {
        "id": "FVfDx1zcMlY8"
      },
      "execution_count": 9,
      "outputs": []
    },
    {
      "cell_type": "code",
      "source": [
        "embeddings = np.zeros(shape=(len(segments), 192))\n",
        "for i, segment in enumerate(segments):\n",
        "  embeddings[i] = segment_embedding(segment)\n",
        "\n",
        "embeddings = np.nan_to_num(embeddings)"
      ],
      "metadata": {
        "id": "YO5hkz3-MlWB"
      },
      "execution_count": null,
      "outputs": []
    },
    {
      "cell_type": "code",
      "source": [
        "clustering = AgglomerativeClustering(num_speakers).fit(embeddings)\n",
        "labels = clustering.labels_\n",
        "for i in range(len(segments)):\n",
        "  segments[i][\"speaker\"] = 'SPEAKER ' + str(labels[i] + 1)"
      ],
      "metadata": {
        "id": "T-BGf1e5MlTd"
      },
      "execution_count": null,
      "outputs": []
    },
    {
      "cell_type": "code",
      "source": [
        "def time(secs):\n",
        "  return datetime.timedelta(seconds=round(secs))\n",
        "\n",
        "f = open(\"transcript.txt\", \"w\")\n",
        "x = \"\"\n",
        "for (i, segment) in enumerate(segments):\n",
        "  if i == 0 or segments[i - 1][\"speaker\"] != segment[\"speaker\"]:\n",
        "    f.write(\"\\n\" + segment[\"speaker\"] + ' ' + str(time(segment[\"start\"])) + '\\n')\n",
        "  f.write(segment[\"text\"][1:] + ' ')\n",
        "  x += \"\\n\" + segment[\"speaker\"] + ' ' + str(time(segment[\"start\"])) + '\\n'\n",
        "  x += segment[\"text\"][1:] + ' '\n",
        "f.close()"
      ],
      "metadata": {
        "id": "pfOKef5IMlQ8"
      },
      "execution_count": null,
      "outputs": []
    },
    {
      "cell_type": "code",
      "source": [
        "print(open('transcript.txt').read())"
      ],
      "metadata": {
        "colab": {
          "base_uri": "https://localhost:8080/"
        },
        "id": "3fIFi6mrM_M1",
        "outputId": "60935de7-03ca-4b41-f770-60c1ad03d262"
      },
      "execution_count": null,
      "outputs": [
        {
          "output_type": "stream",
          "name": "stdout",
          "text": [
            "\n",
            "SPEAKER 1 0:00:00\n",
            "I would have added in the retro... \n",
            "SPEAKER 2 0:00:04\n",
            "Retroreflective panels? \n",
            "SPEAKER 1 0:00:04\n",
            "To make him stealth mode. You want a stealth mode? Cool, right? \n",
            "SPEAKER 2 0:00:07\n",
            "That's actually a good idea. Maybe I'll build one. \n"
          ]
        }
      ]
    },
    {
      "cell_type": "code",
      "source": [
        "print(x)"
      ],
      "metadata": {
        "colab": {
          "base_uri": "https://localhost:8080/"
        },
        "id": "lDv9rLEHM_Jf",
        "outputId": "1b394b35-2469-4d73-cda6-4d2202bc9f5b"
      },
      "execution_count": null,
      "outputs": [
        {
          "output_type": "stream",
          "name": "stdout",
          "text": [
            "\n",
            "SPEAKER 1 0:00:00\n",
            "I would have added in the retro... \n",
            "SPEAKER 2 0:00:04\n",
            "Retroreflective panels? \n",
            "SPEAKER 1 0:00:04\n",
            "To make him stealth mode. \n",
            "SPEAKER 1 0:00:06\n",
            "You want a stealth mode? \n",
            "SPEAKER 1 0:00:06\n",
            "Cool, right? \n",
            "SPEAKER 2 0:00:07\n",
            "That's actually a good idea. Maybe I'll build one. \n"
          ]
        }
      ]
    },
    {
      "cell_type": "code",
      "source": [
        "print(result)"
      ],
      "metadata": {
        "colab": {
          "base_uri": "https://localhost:8080/"
        },
        "id": "frAc9BP1M_Gz",
        "outputId": "9ef84edd-a825-4bae-e1df-d568c7988089"
      },
      "execution_count": null,
      "outputs": [
        {
          "output_type": "stream",
          "name": "stdout",
          "text": [
            "{'text': \" I would have added in the retro... Retroreflective panels? To make him stealth mode. You want a stealth mode? Cool, right? That's actually a good idea. Maybe I'll build one.\", 'segments': [{'id': 0, 'seek': 0, 'start': 0.0, 'end': 3.5, 'text': ' I would have added in the retro...', 'tokens': [50364, 286, 576, 362, 3869, 294, 264, 18820, 485, 50539], 'temperature': 0.0, 'avg_logprob': -0.3701788249768709, 'compression_ratio': 1.2627737226277371, 'no_speech_prob': 0.11304232478141785, 'speaker': 'SPEAKER 1'}, {'id': 1, 'seek': 0, 'start': 3.5, 'end': 4.5, 'text': ' Retroreflective panels?', 'tokens': [50539, 11495, 340, 33115, 1809, 488, 13419, 30, 50589], 'temperature': 0.0, 'avg_logprob': -0.3701788249768709, 'compression_ratio': 1.2627737226277371, 'no_speech_prob': 0.11304232478141785, 'speaker': 'SPEAKER 2'}, {'id': 2, 'seek': 0, 'start': 4.5, 'end': 5.8, 'text': ' To make him stealth mode.', 'tokens': [50589, 1407, 652, 796, 25756, 4391, 13, 50654], 'temperature': 0.0, 'avg_logprob': -0.3701788249768709, 'compression_ratio': 1.2627737226277371, 'no_speech_prob': 0.11304232478141785, 'speaker': 'SPEAKER 1'}, {'id': 3, 'seek': 0, 'start': 5.8, 'end': 6.5, 'text': ' You want a stealth mode?', 'tokens': [50654, 509, 528, 257, 25756, 4391, 30, 50689], 'temperature': 0.0, 'avg_logprob': -0.3701788249768709, 'compression_ratio': 1.2627737226277371, 'no_speech_prob': 0.11304232478141785, 'speaker': 'SPEAKER 1'}, {'id': 4, 'seek': 0, 'start': 6.5, 'end': 7.0, 'text': ' Cool, right?', 'tokens': [50689, 8561, 11, 558, 30, 50714], 'temperature': 0.0, 'avg_logprob': -0.3701788249768709, 'compression_ratio': 1.2627737226277371, 'no_speech_prob': 0.11304232478141785, 'speaker': 'SPEAKER 1'}, {'id': 5, 'seek': 0, 'start': 7.0, 'end': 9.0, 'text': \" That's actually a good idea. Maybe I'll build one.\", 'tokens': [50714, 663, 311, 767, 257, 665, 1558, 13, 2704, 286, 603, 1322, 472, 13, 50814], 'temperature': 0.0, 'avg_logprob': -0.3701788249768709, 'compression_ratio': 1.2627737226277371, 'no_speech_prob': 0.11304232478141785, 'speaker': 'SPEAKER 2'}], 'language': 'en'}\n"
          ]
        }
      ]
    },
    {
      "cell_type": "code",
      "source": [
        "import numpy as np\n",
        "import matplotlib.pyplot as plt\n",
        "from sklearn.decomposition import PCA\n",
        "\n",
        "# Your existing code for clustering and labeling segments...\n",
        "\n",
        "# Perform PCA to reduce the dimensionality of embeddings to 2D\n",
        "pca = PCA(n_components=2, random_state=42)\n",
        "embeddings_2d = pca.fit_transform(embeddings)\n",
        "\n",
        "# Plot the clusters\n",
        "plt.figure(figsize=(10, 8))\n",
        "for i, segment in enumerate(segments):\n",
        "    speaker_id = labels[i] + 1\n",
        "    x, y = embeddings_2d[i]\n",
        "    plt.scatter(x, y, label=f'SPEAKER {speaker_id}')\n",
        "\n",
        "plt.title(\"Speaker Diarization Clusters (PCA Visualization)\")\n",
        "plt.xlabel(\"Principal Component 1\")\n",
        "plt.ylabel(\"Principal Component 2\")\n",
        "plt.legend()\n",
        "plt.show()\n"
      ],
      "metadata": {
        "id": "6zKiqBJHMlLx",
        "colab": {
          "base_uri": "https://localhost:8080/",
          "height": 718
        },
        "outputId": "5a9e4680-4471-4794-af02-83cac22dffc0"
      },
      "execution_count": null,
      "outputs": [
        {
          "output_type": "display_data",
          "data": {
            "text/plain": [
              "<Figure size 1000x800 with 1 Axes>"
            ],
            "image/png": "[encoded data removed]"
          },
          "metadata": {}
        }
      ]
    },
    {
      "cell_type": "code",
      "source": [
        "import numpy as np\n",
        "import matplotlib.pyplot as plt\n",
        "from sklearn.decomposition import PCA\n",
        "import matplotlib.cm as cm\n",
        "\n",
        "# Your existing code for clustering and labeling segments...\n",
        "\n",
        "# Perform PCA to reduce the dimensionality of embeddings to 2D\n",
        "pca = PCA(n_components=2, random_state=42)\n",
        "embeddings_2d = pca.fit_transform(embeddings)\n",
        "\n",
        "# Get the number of unique speakers from the labels\n",
        "num_unique_speakers = len(np.unique(labels))\n",
        "\n",
        "# Create a colormap for speakers, ensuring each speaker gets a unique color\n",
        "colors = cm.tab20b(np.linspace(0, 1, num_unique_speakers))\n",
        "\n",
        "# Plot the clusters\n",
        "plt.figure(figsize=(10, 8))\n",
        "for i, segment in enumerate(segments):\n",
        "    speaker_id = labels[i] + 1\n",
        "    x, y = embeddings_2d[i]\n",
        "    color = colors[labels[i] % num_unique_speakers]  # Get the corresponding color for the speaker\n",
        "    plt.scatter(x, y, label=f'SPEAKER {speaker_id}', color=color)\n",
        "\n",
        "plt.title(\"Speaker Diarization Clusters (PCA Visualization)\")\n",
        "plt.xlabel(\"Principal Component 1\")\n",
        "plt.ylabel(\"Principal Component 2\")\n",
        "plt.legend()\n",
        "plt.show()\n"
      ],
      "metadata": {
        "id": "Z5F4NCSnMlJk",
        "colab": {
          "base_uri": "https://localhost:8080/",
          "height": 718
        },
        "outputId": "f8d9fd42-03f2-409d-a8a0-6f37b5b15aeb"
      },
      "execution_count": null,
      "outputs": [
        {
          "output_type": "display_data",
          "data": {
            "text/plain": [
              "<Figure size 1000x800 with 1 Axes>"
            ],
            "image/png": "[encoded data removed]"
          },
          "metadata": {}
        }
      ]
    },
    {
      "cell_type": "code",
      "source": [
        "import numpy as np\n",
        "import plotly.graph_objects as go\n",
        "from sklearn.decomposition import PCA\n",
        "import matplotlib.cm as cm\n",
        "\n",
        "# Your existing code for clustering and labeling segments...\n",
        "\n",
        "# Perform PCA to reduce the dimensionality of embeddings to 3D\n",
        "pca = PCA(n_components=3, random_state=42)\n",
        "embeddings_3d = pca.fit_transform(embeddings)\n",
        "\n",
        "# Get the number of unique speakers from the labels\n",
        "num_unique_speakers = len(np.unique(labels))\n",
        "\n",
        "# Create a colormap for speakers, ensuring each speaker gets a unique color\n",
        "colors = cm.tab20b(np.linspace(0, 1, num_unique_speakers))\n",
        "\n",
        "# Prepare the data for the 3D scatter plot\n",
        "data = []\n",
        "for i, segment in enumerate(segments):\n",
        "    speaker_id = labels[i] + 1\n",
        "    x, y, z = embeddings_3d[i]\n",
        "    color = colors[labels[i] % num_unique_speakers]  # Get the corresponding color for the speaker\n",
        "    trace = go.Scatter3d(x=[x], y=[y], z=[z], mode='markers',\n",
        "                         marker=dict(size=5, color=color),\n",
        "                         name=f'SPEAKER {speaker_id}')\n",
        "    data.append(trace)\n",
        "\n",
        "# Layout for the 3D scatter plot\n",
        "layout = go.Layout(\n",
        "    title=\"Speaker Diarization Clusters (3D Visualization)\",\n",
        "    scene=dict(\n",
        "        xaxis_title=\"Principal Component 1\",\n",
        "        yaxis_title=\"Principal Component 2\",\n",
        "        zaxis_title=\"Principal Component 3\"\n",
        "    )\n",
        ")\n",
        "\n",
        "# Create the figure and plot the 3D scatter plot\n",
        "fig = go.Figure(data=data, layout=layout)\n",
        "fig.show()\n"
      ],
      "metadata": {
        "id": "MHnzq_exMlG9",
        "colab": {
          "base_uri": "https://localhost:8080/",
          "height": 542
        },
        "outputId": "ffdfac71-395b-4ce0-9161-f91b96d1e97c"
      },
      "execution_count": null,
      "outputs": [
        {
          "output_type": "display_data",
          "data": {
            "text/html": [
              "<html>\n",
              "<head><meta charset=\"utf-8\" /></head>\n",
              "<body>\n",
              "    <div>            <script src=\"https://cdnjs.cloudflare.com/ajax/libs/mathjax/2.7.5/MathJax.js?config=TeX-AMS-MML_SVG\"></script><script type=\"text/javascript\">if (window.MathJax && window.MathJax.Hub && window.MathJax.Hub.Config) {window.MathJax.Hub.Config({SVG: {font: \"STIX-Web\"}});}</script>                <script type=\"text/javascript\">window.PlotlyConfig = {MathJaxConfig: 'local'};</script>\n",
              "        <script src=\"https://cdn.plot.ly/plotly-2.18.2.min.js\"></script>                <div id=\"7740a126-da66-4fe2-bbd3-b5932ba20ca3\" class=\"plotly-graph-div\" style=\"height:525px; width:100%;\"></div>            <script type=\"text/javascript\">                                    window.PLOTLYENV=window.PLOTLYENV || {};                                    if (document.getElementById(\"7740a126-da66-4fe2-bbd3-b5932ba20ca3\")) {                    Plotly.newPlot(                        \"7740a126-da66-4fe2-bbd3-b5932ba20ca3\",                        [{\"marker\":{\"color\":[0.2235294117647059,0.23137254901960785,0.4745098039215686,1.0],\"size\":5},\"mode\":\"markers\",\"name\":\"SPEAKER 1\",\"x\":[92.27365088527563],\"y\":[41.730987964587015],\"z\":[-116.11921640025543],\"type\":\"scatter3d\"},{\"marker\":{\"color\":[0.8705882352941177,0.6196078431372549,0.8392156862745098,1.0],\"size\":5},\"mode\":\"markers\",\"name\":\"SPEAKER 2\",\"x\":[-217.40897255705067],\"y\":[-108.77899718338905],\"z\":[38.41936584212572],\"type\":\"scatter3d\"},{\"marker\":{\"color\":[0.2235294117647059,0.23137254901960785,0.4745098039215686,1.0],\"size\":5},\"mode\":\"markers\",\"name\":\"SPEAKER 1\",\"x\":[41.8422763625266],\"y\":[123.84203429529991],\"z\":[-130.58242829001446],\"type\":\"scatter3d\"},{\"marker\":{\"color\":[0.2235294117647059,0.23137254901960785,0.4745098039215686,1.0],\"size\":5},\"mode\":\"markers\",\"name\":\"SPEAKER 1\",\"x\":[-33.2117277597749],\"y\":[184.25124134842255],\"z\":[180.59673233704297],\"type\":\"scatter3d\"},{\"marker\":{\"color\":[0.2235294117647059,0.23137254901960785,0.4745098039215686,1.0],\"size\":5},\"mode\":\"markers\",\"name\":\"SPEAKER 1\",\"x\":[253.64493481043678],\"y\":[-152.56395020118455],\"z\":[87.83869978618733],\"type\":\"scatter3d\"},{\"marker\":{\"color\":[0.8705882352941177,0.6196078431372549,0.8392156862745098,1.0],\"size\":5},\"mode\":\"markers\",\"name\":\"SPEAKER 2\",\"x\":[-137.14016174141352],\"y\":[-88.48131622373569],\"z\":[-60.153153275086126],\"type\":\"scatter3d\"}],                        {\"scene\":{\"xaxis\":{\"title\":{\"text\":\"Principal Component 1\"}},\"yaxis\":{\"title\":{\"text\":\"Principal Component 2\"}},\"zaxis\":{\"title\":{\"text\":\"Principal Component 3\"}}},\"title\":{\"text\":\"Speaker Diarization Clusters (3D Visualization)\"},\"template\":{\"data\":{\"histogram2dcontour\":[{\"type\":\"histogram2dcontour\",\"colorbar\":{\"outlinewidth\":0,\"ticks\":\"\"},\"colorscale\":[[0.0,\"#0d0887\"],[0.1111111111111111,\"#46039f\"],[0.2222222222222222,\"#7201a8\"],[0.3333333333333333,\"#9c179e\"],[0.4444444444444444,\"#bd3786\"],[0.5555555555555556,\"#d8576b\"],[0.6666666666666666,\"#ed7953\"],[0.7777777777777778,\"#fb9f3a\"],[0.8888888888888888,\"#fdca26\"],[1.0,\"#f0f921\"]]}],\"choropleth\":[{\"type\":\"choropleth\",\"colorbar\":{\"outlinewidth\":0,\"ticks\":\"\"}}],\"histogram2d\":[{\"type\":\"histogram2d\",\"colorbar\":{\"outlinewidth\":0,\"ticks\":\"\"},\"colorscale\":[[0.0,\"#0d0887\"],[0.1111111111111111,\"#46039f\"],[0.2222222222222222,\"#7201a8\"],[0.3333333333333333,\"#9c179e\"],[0.4444444444444444,\"#bd3786\"],[0.5555555555555556,\"#d8576b\"],[0.6666666666666666,\"#ed7953\"],[0.7777777777777778,\"#fb9f3a\"],[0.8888888888888888,\"#fdca26\"],[1.0,\"#f0f921\"]]}],\"heatmap\":[{\"type\":\"heatmap\",\"colorbar\":{\"outlinewidth\":0,\"ticks\":\"\"},\"colorscale\":[[0.0,\"#0d0887\"],[0.1111111111111111,\"#46039f\"],[0.2222222222222222,\"#7201a8\"],[0.3333333333333333,\"#9c179e\"],[0.4444444444444444,\"#bd3786\"],[0.5555555555555556,\"#d8576b\"],[0.6666666666666666,\"#ed7953\"],[0.7777777777777778,\"#fb9f3a\"],[0.8888888888888888,\"#fdca26\"],[1.0,\"#f0f921\"]]}],\"heatmapgl\":[{\"type\":\"heatmapgl\",\"colorbar\":{\"outlinewidth\":0,\"ticks\":\"\"},\"colorscale\":[[0.0,\"#0d0887\"],[0.1111111111111111,\"#46039f\"],[0.2222222222222222,\"#7201a8\"],[0.3333333333333333,\"#9c179e\"],[0.4444444444444444,\"#bd3786\"],[0.5555555555555556,\"#d8576b\"],[0.6666666666666666,\"#ed7953\"],[0.7777777777777778,\"#fb9f3a\"],[0.8888888888888888,\"#fdca26\"],[1.0,\"#f0f921\"]]}],\"contourcarpet\":[{\"type\":\"contourcarpet\",\"colorbar\":{\"outlinewidth\":0,\"ticks\":\"\"}}],\"contour\":[{\"type\":\"contour\",\"colorbar\":{\"outlinewidth\":0,\"ticks\":\"\"},\"colorscale\":[[0.0,\"#0d0887\"],[0.1111111111111111,\"#46039f\"],[0.2222222222222222,\"#7201a8\"],[0.3333333333333333,\"#9c179e\"],[0.4444444444444444,\"#bd3786\"],[0.5555555555555556,\"#d8576b\"],[0.6666666666666666,\"#ed7953\"],[0.7777777777777778,\"#fb9f3a\"],[0.8888888888888888,\"#fdca26\"],[1.0,\"#f0f921\"]]}],\"surface\":[{\"type\":\"surface\",\"colorbar\":{\"outlinewidth\":0,\"ticks\":\"\"},\"colorscale\":[[0.0,\"#0d0887\"],[0.1111111111111111,\"#46039f\"],[0.2222222222222222,\"#7201a8\"],[0.3333333333333333,\"#9c179e\"],[0.4444444444444444,\"#bd3786\"],[0.5555555555555556,\"#d8576b\"],[0.6666666666666666,\"#ed7953\"],[0.7777777777777778,\"#fb9f3a\"],[0.8888888888888888,\"#fdca26\"],[1.0,\"#f0f921\"]]}],\"mesh3d\":[{\"type\":\"mesh3d\",\"colorbar\":{\"outlinewidth\":0,\"ticks\":\"\"}}],\"scatter\":[{\"fillpattern\":{\"fillmode\":\"overlay\",\"size\":10,\"solidity\":0.2},\"type\":\"scatter\"}],\"parcoords\":[{\"type\":\"parcoords\",\"line\":{\"colorbar\":{\"outlinewidth\":0,\"ticks\":\"\"}}}],\"scatterpolargl\":[{\"type\":\"scatterpolargl\",\"marker\":{\"colorbar\":{\"outlinewidth\":0,\"ticks\":\"\"}}}],\"bar\":[{\"error_x\":{\"color\":\"#2a3f5f\"},\"error_y\":{\"color\":\"#2a3f5f\"},\"marker\":{\"line\":{\"color\":\"#E5ECF6\",\"width\":0.5},\"pattern\":{\"fillmode\":\"overlay\",\"size\":10,\"solidity\":0.2}},\"type\":\"bar\"}],\"scattergeo\":[{\"type\":\"scattergeo\",\"marker\":{\"colorbar\":{\"outlinewidth\":0,\"ticks\":\"\"}}}],\"scatterpolar\":[{\"type\":\"scatterpolar\",\"marker\":{\"colorbar\":{\"outlinewidth\":0,\"ticks\":\"\"}}}],\"histogram\":[{\"marker\":{\"pattern\":{\"fillmode\":\"overlay\",\"size\":10,\"solidity\":0.2}},\"type\":\"histogram\"}],\"scattergl\":[{\"type\":\"scattergl\",\"marker\":{\"colorbar\":{\"outlinewidth\":0,\"ticks\":\"\"}}}],\"scatter3d\":[{\"type\":\"scatter3d\",\"line\":{\"colorbar\":{\"outlinewidth\":0,\"ticks\":\"\"}},\"marker\":{\"colorbar\":{\"outlinewidth\":0,\"ticks\":\"\"}}}],\"scattermapbox\":[{\"type\":\"scattermapbox\",\"marker\":{\"colorbar\":{\"outlinewidth\":0,\"ticks\":\"\"}}}],\"scatterternary\":[{\"type\":\"scatterternary\",\"marker\":{\"colorbar\":{\"outlinewidth\":0,\"ticks\":\"\"}}}],\"scattercarpet\":[{\"type\":\"scattercarpet\",\"marker\":{\"colorbar\":{\"outlinewidth\":0,\"ticks\":\"\"}}}],\"carpet\":[{\"aaxis\":{\"endlinecolor\":\"#2a3f5f\",\"gridcolor\":\"white\",\"linecolor\":\"white\",\"minorgridcolor\":\"white\",\"startlinecolor\":\"#2a3f5f\"},\"baxis\":{\"endlinecolor\":\"#2a3f5f\",\"gridcolor\":\"white\",\"linecolor\":\"white\",\"minorgridcolor\":\"white\",\"startlinecolor\":\"#2a3f5f\"},\"type\":\"carpet\"}],\"table\":[{\"cells\":{\"fill\":{\"color\":\"#EBF0F8\"},\"line\":{\"color\":\"white\"}},\"header\":{\"fill\":{\"color\":\"#C8D4E3\"},\"line\":{\"color\":\"white\"}},\"type\":\"table\"}],\"barpolar\":[{\"marker\":{\"line\":{\"color\":\"#E5ECF6\",\"width\":0.5},\"pattern\":{\"fillmode\":\"overlay\",\"size\":10,\"solidity\":0.2}},\"type\":\"barpolar\"}],\"pie\":[{\"automargin\":true,\"type\":\"pie\"}]},\"layout\":{\"autotypenumbers\":\"strict\",\"colorway\":[\"#636efa\",\"#EF553B\",\"#00cc96\",\"#ab63fa\",\"#FFA15A\",\"#19d3f3\",\"#FF6692\",\"#B6E880\",\"#FF97FF\",\"#FECB52\"],\"font\":{\"color\":\"#2a3f5f\"},\"hovermode\":\"closest\",\"hoverlabel\":{\"align\":\"left\"},\"paper_bgcolor\":\"white\",\"plot_bgcolor\":\"#E5ECF6\",\"polar\":{\"bgcolor\":\"#E5ECF6\",\"angularaxis\":{\"gridcolor\":\"white\",\"linecolor\":\"white\",\"ticks\":\"\"},\"radialaxis\":{\"gridcolor\":\"white\",\"linecolor\":\"white\",\"ticks\":\"\"}},\"ternary\":{\"bgcolor\":\"#E5ECF6\",\"aaxis\":{\"gridcolor\":\"white\",\"linecolor\":\"white\",\"ticks\":\"\"},\"baxis\":{\"gridcolor\":\"white\",\"linecolor\":\"white\",\"ticks\":\"\"},\"caxis\":{\"gridcolor\":\"white\",\"linecolor\":\"white\",\"ticks\":\"\"}},\"coloraxis\":{\"colorbar\":{\"outlinewidth\":0,\"ticks\":\"\"}},\"colorscale\":{\"sequential\":[[0.0,\"#0d0887\"],[0.1111111111111111,\"#46039f\"],[0.2222222222222222,\"#7201a8\"],[0.3333333333333333,\"#9c179e\"],[0.4444444444444444,\"#bd3786\"],[0.5555555555555556,\"#d8576b\"],[0.6666666666666666,\"#ed7953\"],[0.7777777777777778,\"#fb9f3a\"],[0.8888888888888888,\"#fdca26\"],[1.0,\"#f0f921\"]],\"sequentialminus\":[[0.0,\"#0d0887\"],[0.1111111111111111,\"#46039f\"],[0.2222222222222222,\"#7201a8\"],[0.3333333333333333,\"#9c179e\"],[0.4444444444444444,\"#bd3786\"],[0.5555555555555556,\"#d8576b\"],[0.6666666666666666,\"#ed7953\"],[0.7777777777777778,\"#fb9f3a\"],[0.8888888888888888,\"#fdca26\"],[1.0,\"#f0f921\"]],\"diverging\":[[0,\"#8e0152\"],[0.1,\"#c51b7d\"],[0.2,\"#de77ae\"],[0.3,\"#f1b6da\"],[0.4,\"#fde0ef\"],[0.5,\"#f7f7f7\"],[0.6,\"#e6f5d0\"],[0.7,\"#b8e186\"],[0.8,\"#7fbc41\"],[0.9,\"#4d9221\"],[1,\"#276419\"]]},\"xaxis\":{\"gridcolor\":\"white\",\"linecolor\":\"white\",\"ticks\":\"\",\"title\":{\"standoff\":15},\"zerolinecolor\":\"white\",\"automargin\":true,\"zerolinewidth\":2},\"yaxis\":{\"gridcolor\":\"white\",\"linecolor\":\"white\",\"ticks\":\"\",\"title\":{\"standoff\":15},\"zerolinecolor\":\"white\",\"automargin\":true,\"zerolinewidth\":2},\"scene\":{\"xaxis\":{\"backgroundcolor\":\"#E5ECF6\",\"gridcolor\":\"white\",\"linecolor\":\"white\",\"showbackground\":true,\"ticks\":\"\",\"zerolinecolor\":\"white\",\"gridwidth\":2},\"yaxis\":{\"backgroundcolor\":\"#E5ECF6\",\"gridcolor\":\"white\",\"linecolor\":\"white\",\"showbackground\":true,\"ticks\":\"\",\"zerolinecolor\":\"white\",\"gridwidth\":2},\"zaxis\":{\"backgroundcolor\":\"#E5ECF6\",\"gridcolor\":\"white\",\"linecolor\":\"white\",\"showbackground\":true,\"ticks\":\"\",\"zerolinecolor\":\"white\",\"gridwidth\":2}},\"shapedefaults\":{\"line\":{\"color\":\"#2a3f5f\"}},\"annotationdefaults\":{\"arrowcolor\":\"#2a3f5f\",\"arrowhead\":0,\"arrowwidth\":1},\"geo\":{\"bgcolor\":\"white\",\"landcolor\":\"#E5ECF6\",\"subunitcolor\":\"white\",\"showland\":true,\"showlakes\":true,\"lakecolor\":\"white\"},\"title\":{\"x\":0.05},\"mapbox\":{\"style\":\"light\"}}}},                        {\"responsive\": true}                    ).then(function(){\n",
              "                            \n",
              "var gd = document.getElementById('7740a126-da66-4fe2-bbd3-b5932ba20ca3');\n",
              "var x = new MutationObserver(function (mutations, observer) {{\n",
              "        var display = window.getComputedStyle(gd).display;\n",
              "        if (!display || display === 'none') {{\n",
              "            console.log([gd, 'removed!']);\n",
              "            Plotly.purge(gd);\n",
              "            observer.disconnect();\n",
              "        }}\n",
              "}});\n",
              "\n",
              "// Listen for the removal of the full notebook cells\n",
              "var notebookContainer = gd.closest('#notebook-container');\n",
              "if (notebookContainer) {{\n",
              "    x.observe(notebookContainer, {childList: true});\n",
              "}}\n",
              "\n",
              "// Listen for the clearing of the current output cell\n",
              "var outputEl = gd.closest('.output');\n",
              "if (outputEl) {{\n",
              "    x.observe(outputEl, {childList: true});\n",
              "}}\n",
              "\n",
              "                        })                };                            </script>        </div>\n",
              "</body>\n",
              "</html>"
            ]
          },
          "metadata": {}
        }
      ]
    },
    {
      "cell_type": "code",
      "source": [],
      "metadata": {
        "id": "9uWjmemUW5Zj"
      },
      "execution_count": null,
      "outputs": []
    }
  ]
}